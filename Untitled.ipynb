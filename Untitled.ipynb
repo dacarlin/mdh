{
 "cells": [
  {
   "cell_type": "code",
   "execution_count": 50,
   "metadata": {
    "collapsed": false,
    "scrolled": false
   },
   "outputs": [],
   "source": [
    "import numpy \n",
    "import pandas\n",
    "from glob import glob \n",
    "from collections import Counter\n",
    "from Bio.PDB.Polypeptide import PPBuilder\n",
    "from Bio.PDB import PDBParser\n",
    "from subprocess import call \n",
    "\n",
    "# scorefiles \n",
    "dfs = [ pandas.read_csv( sf, sep='\\s+' ) for sf in glob( 'out/*sc' ) ]\n",
    "df = pandas.concat( dfs )\n",
    "low_100 = df.sort( 'total_score' ).head( 100 )\n",
    "path_to_low = [ 'out/{}.pdb'.format( i ) for i in low_100.description ]\n",
    "\n",
    "def util_function( pdb ):\n",
    "    parser = PDBParser()\n",
    "    structure = parser.get_structure( pdb[:-4], pdb )\n",
    "    ppb = PPBuilder() # lol why don't these have PDBParser( 'XZY1.pdb' )-style constructors? \n",
    "    for pp in ppb.build_peptides( structure ):\n",
    "        sequence = pp.get_sequence()\n",
    "        return sequence "
   ]
  },
  {
   "cell_type": "code",
   "execution_count": 60,
   "metadata": {
    "collapsed": false
   },
   "outputs": [
    {
     "data": {
      "text/plain": [
       "0    mdh_937_0001\n",
       "0    mdh_277_0001\n",
       "0    mdh_977_0001\n",
       "0    mdh_602_0001\n",
       "0    mdh_133_0001\n",
       "0    mdh_462_0001\n",
       "0    mdh_679_0001\n",
       "0     mdh_70_0001\n",
       "0    mdh_651_0001\n",
       "0    mdh_877_0001\n",
       "Name: description, dtype: object"
      ]
     },
     "execution_count": 60,
     "metadata": {},
     "output_type": "execute_result"
    }
   ],
   "source": [
    "low_100.sort( 'all_cst' ).head( 10 ).description"
   ]
  },
  {
   "cell_type": "code",
   "execution_count": 51,
   "metadata": {
    "collapsed": false
   },
   "outputs": [],
   "source": [
    "# this builds sequences of each PDB and takes 0.1 seconds per PDB\n",
    "l = [] \n",
    "seqs = [ util_function( pdb ) for pdb in path_to_low ]\n",
    "for record in seqs:\n",
    "    l += [ list( record ) ]"
   ]
  },
  {
   "cell_type": "code",
   "execution_count": 53,
   "metadata": {
    "collapsed": false
   },
   "outputs": [
    {
     "data": {
      "text/plain": [
       "0"
      ]
     },
     "execution_count": 53,
     "metadata": {},
     "output_type": "execute_result"
    }
   ],
   "source": [
    "# this tars them all together in case you want to download and look at them\n",
    "cmd = [ 'tar', '--create', '--verbose', '--file', 'low_100.tar' ] + path_to_low\n",
    "call( cmd ) # creates a file called 'low_100.tar' "
   ]
  },
  {
   "cell_type": "code",
   "execution_count": 57,
   "metadata": {
    "collapsed": false
   },
   "outputs": [
    {
     "name": "stdout",
     "output_type": "stream",
     "text": [
      "46 ('D', 99) ('T', 1)\n",
      "48 ('E', 1) ('G', 99)\n",
      "106 ('S', 99) ('G', 1)\n",
      "109 ('A', 2) ('D', 98)\n",
      "146 ('T', 3) ('G', 97)\n",
      "149 ('S', 79) ('T', 21)\n",
      "151 ('A', 98) ('E', 2)\n",
      "156 ('S', 19) ('F', 81)\n",
      "160 ('R', 1) ('T', 99)\n",
      "190 ('A', 1) ('M', 99)\n",
      "194 ('L', 99) ('G', 1)\n",
      "204 ('A', 36) ('T', 63) ('G', 1)\n",
      "261 ('S', 1) ('F', 99)\n",
      "266 ('Q', 1) ('E', 3) ('L', 35) ('G', 23) ('N', 38)\n",
      "273 ('A', 99) ('G', 1)\n",
      "288 ('A', 90) ('N', 6) ('V', 4)\n",
      "370 ('M', 86) ('T', 14)\n"
     ]
    }
   ],
   "source": [
    "# build a numpy array that contains positions that were mutated and what they were mutated to\n",
    "a = numpy.array( l ) \n",
    "for n, i in enumerate( a.T ):\n",
    "    c = Counter( i )\n",
    "    if len( c ) > 1: # limits us to spots where mutations have been designed\n",
    "        print( n + 1 ), # proteins are 1-indexed \n",
    "        for item in c.items():\n",
    "            print item, \n",
    "        print "
   ]
  },
  {
   "cell_type": "code",
   "execution_count": null,
   "metadata": {
    "collapsed": true
   },
   "outputs": [],
   "source": []
  }
 ],
 "metadata": {
  "kernelspec": {
   "display_name": "Python 2",
   "language": "python",
   "name": "python2"
  },
  "language_info": {
   "codemirror_mode": {
    "name": "ipython",
    "version": 2
   },
   "file_extension": ".py",
   "mimetype": "text/x-python",
   "name": "python",
   "nbconvert_exporter": "python",
   "pygments_lexer": "ipython2",
   "version": "2.7.10"
  }
 },
 "nbformat": 4,
 "nbformat_minor": 0
}
